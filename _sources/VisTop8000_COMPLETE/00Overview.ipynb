{
 "cells": [
  {
   "cell_type": "markdown",
   "metadata": {},
   "source": [
    "# <font color = 545AA7> Notebook 0: Visualization of Top8000 Protein Dataset </font>"
   ]
  },
  {
   "cell_type": "markdown",
   "metadata": {},
   "source": [
    "The overarching goal of this workshop is to introduce you to running **Python** in **Jupyter notebooks** and using **biopython** to extract and visualize information from PDB files. This workshop is broken down into three Jupyter notebooks delinated below. This is by no means intended to make you procient in writing your own code, but it rather intended as a chance for you to get comfortable with Jupyter notebooks and to run Python code to visualize protein data.\n",
    "\n",
    "## <font color = 545AA7> Top8000 Protein Dataset </font>\n",
    "\n",
    "This activity will focus on analyzing the **Top8000 Protein Dataset** which is comprised of  **~8000 high quality protein crystal structures** stored as PDB files. In this activity, we will using the above mentioned tools to examine trends in the protein structures. Because extracting information from this dataset often takes 1-20 minutes per calculation, we will use a **random subset of 80 protein structures** for this activity to avoid exessively long waits. The full dataset is no longer available on the web and has been replaced by the top2018 dataset.\n",
    "\n",
    "<img src=\"top80.png\" width=400>"
   ]
  },
  {
   "cell_type": "markdown",
   "metadata": {},
   "source": [
    "## <font color = 545AA7> 01 Python and Jupyter Notebooks </font>\n",
    "\n",
    "This notebook will introduce you to using Jupyter notebooks and running functions to plot visualize data inside the Jupyter notebook. \n",
    "\n",
    "<img src=\"Jupyter_notebook.png\" width=\"1000\">"
   ]
  },
  {
   "cell_type": "markdown",
   "metadata": {},
   "source": [
    "## <font color = 545AA7> 02 Biopython and PDB Files </font>\n",
    "\n",
    "In this notebook, we will start to extract data from PDB files using **biopython** and visualize them.\n",
    "\n",
    "<img src=\"PDB_image.png\" width=\"400\" height=\"400\">"
   ]
  },
  {
   "cell_type": "markdown",
   "metadata": {},
   "source": [
    "## <font color = 545AA7> 03 Angles and Ramachandran Plots </font>\n",
    "\n",
    "This notebook angle and dihedral angle information from the dataset and plot the result. The goal of this notebook is to answer the question as to whether bond angles in peptide chains follow any patterns.\n",
    "\n",
    "<img src=\"tripeptide.png\" width=\"400\" height=\"400\">"
   ]
  },
  {
   "cell_type": "code",
   "execution_count": null,
   "metadata": {},
   "outputs": [],
   "source": []
  }
 ],
 "metadata": {
  "kernelspec": {
   "display_name": "Python 3 (ipykernel)",
   "language": "python",
   "name": "python3"
  },
  "language_info": {
   "codemirror_mode": {
    "name": "ipython",
    "version": 3
   },
   "file_extension": ".py",
   "mimetype": "text/x-python",
   "name": "python",
   "nbconvert_exporter": "python",
   "pygments_lexer": "ipython3",
   "version": "3.9.7"
  }
 },
 "nbformat": 4,
 "nbformat_minor": 4
}
